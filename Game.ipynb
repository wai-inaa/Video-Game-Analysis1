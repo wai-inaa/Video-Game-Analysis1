{
 "cells": [
  {
   "cell_type": "code",
   "execution_count": 6,
   "metadata": {},
   "outputs": [],
   "source": [
    "import numpy as np \n",
    "import pandas as pd\n",
    "import os\n",
    "for dirname, _, filenames in os.walk('/kaggle/input'):\n",
    "    for filename in filenames:\n",
    "        print(os.path.join(dirname, filename))\n",
    "       "
   ]
  },
  {
   "cell_type": "code",
   "execution_count": 7,
   "metadata": {},
   "outputs": [],
   "source": [
    "import seaborn as sns\n",
    "import matplotlib.pyplot as plt"
   ]
  },
  {
   "cell_type": "code",
   "execution_count": 13,
   "metadata": {},
   "outputs": [],
   "source": [
    "df = pd.read_csv(r\"C:\\Users\\Minahil Gillani\\Downloads\\JP\\Video_Game_Information.csv\")"
   ]
  },
  {
   "cell_type": "code",
   "execution_count": 14,
   "metadata": {},
   "outputs": [
    {
     "data": {
      "text/html": [
       "<div>\n",
       "<style scoped>\n",
       "    .dataframe tbody tr th:only-of-type {\n",
       "        vertical-align: middle;\n",
       "    }\n",
       "\n",
       "    .dataframe tbody tr th {\n",
       "        vertical-align: top;\n",
       "    }\n",
       "\n",
       "    .dataframe thead th {\n",
       "        text-align: right;\n",
       "    }\n",
       "</style>\n",
       "<table border=\"1\" class=\"dataframe\">\n",
       "  <thead>\n",
       "    <tr style=\"text-align: right;\">\n",
       "      <th></th>\n",
       "      <th>Unnamed: 0</th>\n",
       "      <th>Title</th>\n",
       "      <th>Genre</th>\n",
       "      <th>Platform</th>\n",
       "      <th>ReleaseYear</th>\n",
       "      <th>NumPlayers</th>\n",
       "      <th>AvgRating</th>\n",
       "    </tr>\n",
       "  </thead>\n",
       "  <tbody>\n",
       "    <tr>\n",
       "      <th>0</th>\n",
       "      <td>0</td>\n",
       "      <td>Super Mario Bros</td>\n",
       "      <td>Platformer</td>\n",
       "      <td>NES</td>\n",
       "      <td>1985</td>\n",
       "      <td>1</td>\n",
       "      <td>9.4</td>\n",
       "    </tr>\n",
       "    <tr>\n",
       "      <th>1</th>\n",
       "      <td>1</td>\n",
       "      <td>The Legend of Zelda</td>\n",
       "      <td>Action-Adventure</td>\n",
       "      <td>NES</td>\n",
       "      <td>1986</td>\n",
       "      <td>1</td>\n",
       "      <td>9.2</td>\n",
       "    </tr>\n",
       "    <tr>\n",
       "      <th>2</th>\n",
       "      <td>2</td>\n",
       "      <td>Minecraft</td>\n",
       "      <td>Sandbox</td>\n",
       "      <td>Multi-platform</td>\n",
       "      <td>2011</td>\n",
       "      <td>8</td>\n",
       "      <td>9.5</td>\n",
       "    </tr>\n",
       "    <tr>\n",
       "      <th>3</th>\n",
       "      <td>3</td>\n",
       "      <td>Tetris</td>\n",
       "      <td>Puzzle</td>\n",
       "      <td>Multi-platform</td>\n",
       "      <td>1984</td>\n",
       "      <td>1</td>\n",
       "      <td>8.5</td>\n",
       "    </tr>\n",
       "    <tr>\n",
       "      <th>4</th>\n",
       "      <td>4</td>\n",
       "      <td>Call of Duty: Modern Warfare</td>\n",
       "      <td>First-Person Shooter</td>\n",
       "      <td>Multi-platform</td>\n",
       "      <td>2007</td>\n",
       "      <td>16</td>\n",
       "      <td>8.9</td>\n",
       "    </tr>\n",
       "  </tbody>\n",
       "</table>\n",
       "</div>"
      ],
      "text/plain": [
       "   Unnamed: 0                         Title                 Genre  \\\n",
       "0           0              Super Mario Bros            Platformer   \n",
       "1           1           The Legend of Zelda      Action-Adventure   \n",
       "2           2                     Minecraft               Sandbox   \n",
       "3           3                        Tetris                Puzzle   \n",
       "4           4  Call of Duty: Modern Warfare  First-Person Shooter   \n",
       "\n",
       "         Platform  ReleaseYear  NumPlayers  AvgRating  \n",
       "0             NES         1985           1        9.4  \n",
       "1             NES         1986           1        9.2  \n",
       "2  Multi-platform         2011           8        9.5  \n",
       "3  Multi-platform         1984           1        8.5  \n",
       "4  Multi-platform         2007          16        8.9  "
      ]
     },
     "execution_count": 14,
     "metadata": {},
     "output_type": "execute_result"
    }
   ],
   "source": [
    "df.head()"
   ]
  },
  {
   "cell_type": "code",
   "execution_count": 15,
   "metadata": {},
   "outputs": [
    {
     "name": "stdout",
     "output_type": "stream",
     "text": [
      "<class 'pandas.core.frame.DataFrame'>\n",
      "RangeIndex: 5 entries, 0 to 4\n",
      "Data columns (total 7 columns):\n",
      " #   Column       Non-Null Count  Dtype  \n",
      "---  ------       --------------  -----  \n",
      " 0   Unnamed: 0   5 non-null      int64  \n",
      " 1   Title        5 non-null      object \n",
      " 2   Genre        5 non-null      object \n",
      " 3   Platform     5 non-null      object \n",
      " 4   ReleaseYear  5 non-null      int64  \n",
      " 5   NumPlayers   5 non-null      int64  \n",
      " 6   AvgRating    5 non-null      float64\n",
      "dtypes: float64(1), int64(3), object(3)\n",
      "memory usage: 408.0+ bytes\n"
     ]
    }
   ],
   "source": [
    "df.info()"
   ]
  },
  {
   "cell_type": "code",
   "execution_count": 16,
   "metadata": {},
   "outputs": [
    {
     "data": {
      "text/html": [
       "<div>\n",
       "<style scoped>\n",
       "    .dataframe tbody tr th:only-of-type {\n",
       "        vertical-align: middle;\n",
       "    }\n",
       "\n",
       "    .dataframe tbody tr th {\n",
       "        vertical-align: top;\n",
       "    }\n",
       "\n",
       "    .dataframe thead th {\n",
       "        text-align: right;\n",
       "    }\n",
       "</style>\n",
       "<table border=\"1\" class=\"dataframe\">\n",
       "  <thead>\n",
       "    <tr style=\"text-align: right;\">\n",
       "      <th></th>\n",
       "      <th>Unnamed: 0</th>\n",
       "      <th>ReleaseYear</th>\n",
       "      <th>NumPlayers</th>\n",
       "      <th>AvgRating</th>\n",
       "    </tr>\n",
       "  </thead>\n",
       "  <tbody>\n",
       "    <tr>\n",
       "      <th>count</th>\n",
       "      <td>5.000000</td>\n",
       "      <td>5.000000</td>\n",
       "      <td>5.000000</td>\n",
       "      <td>5.000000</td>\n",
       "    </tr>\n",
       "    <tr>\n",
       "      <th>mean</th>\n",
       "      <td>2.000000</td>\n",
       "      <td>1994.600000</td>\n",
       "      <td>5.400000</td>\n",
       "      <td>9.100000</td>\n",
       "    </tr>\n",
       "    <tr>\n",
       "      <th>std</th>\n",
       "      <td>1.581139</td>\n",
       "      <td>13.240091</td>\n",
       "      <td>6.655825</td>\n",
       "      <td>0.406202</td>\n",
       "    </tr>\n",
       "    <tr>\n",
       "      <th>min</th>\n",
       "      <td>0.000000</td>\n",
       "      <td>1984.000000</td>\n",
       "      <td>1.000000</td>\n",
       "      <td>8.500000</td>\n",
       "    </tr>\n",
       "    <tr>\n",
       "      <th>25%</th>\n",
       "      <td>1.000000</td>\n",
       "      <td>1985.000000</td>\n",
       "      <td>1.000000</td>\n",
       "      <td>8.900000</td>\n",
       "    </tr>\n",
       "    <tr>\n",
       "      <th>50%</th>\n",
       "      <td>2.000000</td>\n",
       "      <td>1986.000000</td>\n",
       "      <td>1.000000</td>\n",
       "      <td>9.200000</td>\n",
       "    </tr>\n",
       "    <tr>\n",
       "      <th>75%</th>\n",
       "      <td>3.000000</td>\n",
       "      <td>2007.000000</td>\n",
       "      <td>8.000000</td>\n",
       "      <td>9.400000</td>\n",
       "    </tr>\n",
       "    <tr>\n",
       "      <th>max</th>\n",
       "      <td>4.000000</td>\n",
       "      <td>2011.000000</td>\n",
       "      <td>16.000000</td>\n",
       "      <td>9.500000</td>\n",
       "    </tr>\n",
       "  </tbody>\n",
       "</table>\n",
       "</div>"
      ],
      "text/plain": [
       "       Unnamed: 0  ReleaseYear  NumPlayers  AvgRating\n",
       "count    5.000000     5.000000    5.000000   5.000000\n",
       "mean     2.000000  1994.600000    5.400000   9.100000\n",
       "std      1.581139    13.240091    6.655825   0.406202\n",
       "min      0.000000  1984.000000    1.000000   8.500000\n",
       "25%      1.000000  1985.000000    1.000000   8.900000\n",
       "50%      2.000000  1986.000000    1.000000   9.200000\n",
       "75%      3.000000  2007.000000    8.000000   9.400000\n",
       "max      4.000000  2011.000000   16.000000   9.500000"
      ]
     },
     "execution_count": 16,
     "metadata": {},
     "output_type": "execute_result"
    }
   ],
   "source": [
    "df.describe()"
   ]
  },
  {
   "cell_type": "code",
   "execution_count": 17,
   "metadata": {},
   "outputs": [],
   "source": [
    "titles_by_platform = df.groupby('Platform')['Title']"
   ]
  },
  {
   "cell_type": "code",
   "execution_count": 18,
   "metadata": {},
   "outputs": [
    {
     "name": "stdout",
     "output_type": "stream",
     "text": [
      "Platform\n",
      "Multi-platform    3\n",
      "NES               2\n",
      "Name: Title, dtype: int64\n"
     ]
    }
   ],
   "source": [
    "titles_by_platform = df.groupby('Platform')['Title'].count()\n",
    "print(titles_by_platform)"
   ]
  },
  {
   "cell_type": "code",
   "execution_count": 19,
   "metadata": {},
   "outputs": [],
   "source": [
    "total_games_by_platform = df['Platform'].value_counts()"
   ]
  },
  {
   "cell_type": "code",
   "execution_count": 20,
   "metadata": {},
   "outputs": [
    {
     "data": {
      "image/png": "[encoded data removed]",
      "text/plain": [
       "<Figure size 600x600 with 1 Axes>"
      ]
     },
     "metadata": {},
     "output_type": "display_data"
    }
   ],
   "source": [
    "plt.figure(figsize=(6, 6))\n",
    "plt.pie(total_games_by_platform, labels=total_games_by_platform.index, autopct='%1.1f%%', colors=plt.cm.tab20.colors)\n",
    "plt.title('Total Games by Platform')\n",
    "plt.show()"
   ]
  },
  {
   "cell_type": "code",
   "execution_count": 21,
   "metadata": {},
   "outputs": [
    {
     "name": "stdout",
     "output_type": "stream",
     "text": [
      "Series([], Name: Title, dtype: object)\n"
     ]
    }
   ],
   "source": [
    "\n",
    "xbox_titles = df[df['Platform'] == 'Xbox']['Title']\n",
    "print(xbox_titles)"
   ]
  },
  {
   "cell_type": "code",
   "execution_count": 22,
   "metadata": {},
   "outputs": [
    {
     "name": "stdout",
     "output_type": "stream",
     "text": [
      "Series([], Name: Title, dtype: object)\n"
     ]
    }
   ],
   "source": [
    "ps_titles = df[df['Platform'] == 'PlayStation']['Title']\n",
    "print(ps_titles)"
   ]
  },
  {
   "cell_type": "code",
   "execution_count": 23,
   "metadata": {},
   "outputs": [
    {
     "name": "stdout",
     "output_type": "stream",
     "text": [
      "Series([], Name: Title, dtype: object)\n"
     ]
    }
   ],
   "source": [
    "switch_titles = df[df['Platform'] == 'Switch']['Title']\n",
    "print(switch_titles)"
   ]
  },
  {
   "cell_type": "code",
   "execution_count": 24,
   "metadata": {},
   "outputs": [
    {
     "name": "stdout",
     "output_type": "stream",
     "text": [
      "Series([], Name: Title, dtype: object)\n"
     ]
    }
   ],
   "source": [
    "pc_titles = df[df['Platform'] == 'PC']['Title']\n",
    "print(pc_titles)"
   ]
  },
  {
   "cell_type": "code",
   "execution_count": 25,
   "metadata": {},
   "outputs": [
    {
     "name": "stdout",
     "output_type": "stream",
     "text": [
      "0       Super Mario Bros\n",
      "1    The Legend of Zelda\n",
      "Name: Title, dtype: object\n"
     ]
    }
   ],
   "source": [
    "nes_titles = df[df['Platform'] == 'NES']['Title']\n",
    "print(nes_titles)"
   ]
  },
  {
   "cell_type": "code",
   "execution_count": 26,
   "metadata": {},
   "outputs": [
    {
     "name": "stdout",
     "output_type": "stream",
     "text": [
      "2                       Minecraft\n",
      "3                          Tetris\n",
      "4    Call of Duty: Modern Warfare\n",
      "Name: Title, dtype: object\n"
     ]
    }
   ],
   "source": [
    "mp_titles = df[df['Platform'] == 'Multi-platform']['Title']\n",
    "print(mp_titles)"
   ]
  },
  {
   "cell_type": "code",
   "execution_count": 27,
   "metadata": {},
   "outputs": [
    {
     "data": {
      "image/png": "[encoded data removed]",
      "text/plain": [
       "<Figure size 640x480 with 1 Axes>"
      ]
     },
     "metadata": {},
     "output_type": "display_data"
    }
   ],
   "source": [
    "plt.bar(titles_by_platform.index, titles_by_platform.values, color='green')\n",
    "plt.xlabel('Platform')\n",
    "plt.ylabel('Number of Titles')\n",
    "plt.title('Number of Titles by Platform')\n",
    "plt.show()"
   ]
  },
  {
   "cell_type": "code",
   "execution_count": null,
   "metadata": {},
   "outputs": [],
   "source": []
  }
 ],
 "metadata": {
  "kernelspec": {
   "display_name": "Python 3",
   "language": "python",
   "name": "python3"
  },
  "language_info": {
   "codemirror_mode": {
    "name": "ipython",
    "version": 3
   },
   "file_extension": ".py",
   "mimetype": "text/x-python",
   "name": "python",
   "nbconvert_exporter": "python",
   "pygments_lexer": "ipython3",
   "version": "3.10.2"
  }
 },
 "nbformat": 4,
 "nbformat_minor": 2
}
